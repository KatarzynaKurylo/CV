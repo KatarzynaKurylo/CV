{
 "cells": [
  {
   "cell_type": "code",
   "execution_count": 37,
   "metadata": {},
   "outputs": [
    {
     "name": "stdout",
     "output_type": "stream",
     "text": [
      "     poisonous cap-shape cap-surface cap-color bruises? odor g-attachment  \\\n",
      "0            e         b           s         w        t    l            f   \n",
      "1            p         x           y         n        t    p            f   \n",
      "2            e         b           y         w        t    a            f   \n",
      "3            e         b           s         w        t    l            f   \n",
      "4            e         x           y         y        t    l            f   \n",
      "...        ...       ...         ...       ...      ...  ...          ...   \n",
      "7252         p         k           y         n        f    f            f   \n",
      "7253         e         k           s         n        f    n            a   \n",
      "7254         e         f           s         n        f    n            a   \n",
      "7255         p         k           y         n        f    y            f   \n",
      "7256         e         x           s         n        f    n            a   \n",
      "\n",
      "     g-spacing g-size g-color  ... ssb-ring sca-ring scb-ring veil-t veil-c  \\\n",
      "0            c      b       n  ...        s        w        w      p      w   \n",
      "1            c      n       n  ...        s        w        w      p      w   \n",
      "2            c      b       w  ...        s        w        w      p      w   \n",
      "3            c      b       g  ...        s        w        w      p      w   \n",
      "4            c      b       n  ...        s        w        w      p      w   \n",
      "...        ...    ...     ...  ...      ...      ...      ...    ...    ...   \n",
      "7252         c      n       b  ...        s        p        w      p      w   \n",
      "7253         c      b       y  ...        s        o        o      p      o   \n",
      "7254         c      b       n  ...        s        o        o      p      o   \n",
      "7255         c      n       b  ...        k        w        w      p      w   \n",
      "7256         c      b       y  ...        s        o        o      p      o   \n",
      "\n",
      "     ring-n ring-t sp-color population habitat  \n",
      "0         o      p        n          n       m  \n",
      "1         o      p        n          v       g  \n",
      "2         o      p        n          n       m  \n",
      "3         o      p        k          s       m  \n",
      "4         o      p        n          n       m  \n",
      "...     ...    ...      ...        ...     ...  \n",
      "7252      o      e        w          v       d  \n",
      "7253      o      p        b          c       l  \n",
      "7254      o      p        b          c       l  \n",
      "7255      o      e        w          v       l  \n",
      "7256      o      p        o          c       l  \n",
      "\n",
      "[7257 rows x 23 columns]\n"
     ]
    }
   ],
   "source": [
    "import pandas as pd\n",
    "\n",
    "colnames=[\"poisonous\",\"cap-shape\",\"cap-surface\",\"cap-color\",\"bruises?\",\"odor\",\"g-attachment\",\"g-spacing\",\"g-size\",\"g-color\",\"s-shape\",\"s-root\",\"ssa-ring\",\"ssb-ring\",\"sca-ring\",\"scb-ring\",\"veil-t\",\"veil-c\",\"ring-n\",\"ring-t\",\"sp-color\",\"population\",\"habitat\"]\n",
    "data = pd.read_csv(\"mushrooms.tsv\",sep='\\t',header=None,names=colnames)\n",
    "\n",
    "print(data)"
   ]
  },
  {
   "cell_type": "code",
   "execution_count": 38,
   "metadata": {},
   "outputs": [
    {
     "name": "stdout",
     "output_type": "stream",
     "text": [
      "<class 'pandas.core.frame.DataFrame'>\n",
      "RangeIndex: 7257 entries, 0 to 7256\n",
      "Data columns (total 23 columns):\n",
      " #   Column        Non-Null Count  Dtype \n",
      "---  ------        --------------  ----- \n",
      " 0   poisonous     7257 non-null   object\n",
      " 1   cap-shape     7257 non-null   object\n",
      " 2   cap-surface   7257 non-null   object\n",
      " 3   cap-color     7257 non-null   object\n",
      " 4   bruises?      7257 non-null   object\n",
      " 5   odor          7257 non-null   object\n",
      " 6   g-attachment  7257 non-null   object\n",
      " 7   g-spacing     7257 non-null   object\n",
      " 8   g-size        7257 non-null   object\n",
      " 9   g-color       7257 non-null   object\n",
      " 10  s-shape       7257 non-null   object\n",
      " 11  s-root        7257 non-null   object\n",
      " 12  ssa-ring      7257 non-null   object\n",
      " 13  ssb-ring      7257 non-null   object\n",
      " 14  sca-ring      7257 non-null   object\n",
      " 15  scb-ring      7257 non-null   object\n",
      " 16  veil-t        7257 non-null   object\n",
      " 17  veil-c        7257 non-null   object\n",
      " 18  ring-n        7257 non-null   object\n",
      " 19  ring-t        7257 non-null   object\n",
      " 20  sp-color      7257 non-null   object\n",
      " 21  population    7257 non-null   object\n",
      " 22  habitat       7257 non-null   object\n",
      "dtypes: object(23)\n",
      "memory usage: 1.3+ MB\n"
     ]
    }
   ],
   "source": [
    "data.info()"
   ]
  },
  {
   "cell_type": "code",
   "execution_count": 39,
   "metadata": {},
   "outputs": [
    {
     "name": "stdout",
     "output_type": "stream",
     "text": [
      "      poisonous  cap-shape_b  cap-shape_c  cap-shape_f  cap-shape_k  \\\n",
      "0             1            1            0            0            0   \n",
      "1             0            0            0            0            0   \n",
      "2             1            1            0            0            0   \n",
      "3             1            1            0            0            0   \n",
      "4             1            0            0            0            0   \n",
      "...         ...          ...          ...          ...          ...   \n",
      "7252          0            0            0            0            1   \n",
      "7253          1            0            0            0            1   \n",
      "7254          1            0            0            1            0   \n",
      "7255          0            0            0            0            1   \n",
      "7256          1            0            0            0            0   \n",
      "\n",
      "      cap-shape_s  cap-shape_x  cap-surface_f  cap-surface_g  cap-surface_s  \\\n",
      "0               0            0              0              0              1   \n",
      "1               0            1              0              0              0   \n",
      "2               0            0              0              0              0   \n",
      "3               0            0              0              0              1   \n",
      "4               0            1              0              0              0   \n",
      "...           ...          ...            ...            ...            ...   \n",
      "7252            0            0              0              0              0   \n",
      "7253            0            0              0              0              1   \n",
      "7254            0            0              0              0              1   \n",
      "7255            0            0              0              0              0   \n",
      "7256            0            1              0              0              1   \n",
      "\n",
      "      ...  population_s  population_v  population_y  habitat_d  habitat_g  \\\n",
      "0     ...             0             0             0          0          0   \n",
      "1     ...             0             1             0          0          1   \n",
      "2     ...             0             0             0          0          0   \n",
      "3     ...             1             0             0          0          0   \n",
      "4     ...             0             0             0          0          0   \n",
      "...   ...           ...           ...           ...        ...        ...   \n",
      "7252  ...             0             1             0          1          0   \n",
      "7253  ...             0             0             0          0          0   \n",
      "7254  ...             0             0             0          0          0   \n",
      "7255  ...             0             1             0          0          0   \n",
      "7256  ...             0             0             0          0          0   \n",
      "\n",
      "      habitat_l  habitat_m  habitat_p  habitat_u  habitat_w  \n",
      "0             0          1          0          0          0  \n",
      "1             0          0          0          0          0  \n",
      "2             0          1          0          0          0  \n",
      "3             0          1          0          0          0  \n",
      "4             0          1          0          0          0  \n",
      "...         ...        ...        ...        ...        ...  \n",
      "7252          0          0          0          0          0  \n",
      "7253          1          0          0          0          0  \n",
      "7254          1          0          0          0          0  \n",
      "7255          1          0          0          0          0  \n",
      "7256          1          0          0          0          0  \n",
      "\n",
      "[7257 rows x 118 columns]\n"
     ]
    }
   ],
   "source": [
    "data[\"poisonous\"].replace(\"e\",1,inplace=True) #Kolumna zerowa to test\n",
    "data[\"poisonous\"].replace(\"p\",0,inplace=True)\n",
    "data = pd.get_dummies(data)\n",
    "print(data)"
   ]
  },
  {
   "cell_type": "code",
   "execution_count": 40,
   "metadata": {},
   "outputs": [
    {
     "name": "stdout",
     "output_type": "stream",
     "text": [
      "Index(['cap-shape_b', 'cap-shape_c', 'cap-shape_f', 'cap-shape_k',\n",
      "       'cap-shape_s', 'cap-shape_x', 'cap-surface_f', 'cap-surface_g',\n",
      "       'cap-surface_s', 'cap-surface_y',\n",
      "       ...\n",
      "       'population_s', 'population_v', 'population_y', 'habitat_d',\n",
      "       'habitat_g', 'habitat_l', 'habitat_m', 'habitat_p', 'habitat_u',\n",
      "       'habitat_w'],\n",
      "      dtype='object', length=117)\n"
     ]
    }
   ],
   "source": [
    "features=data.columns\n",
    "features=features[1:]\n",
    "print(features)"
   ]
  },
  {
   "cell_type": "code",
   "execution_count": 41,
   "metadata": {},
   "outputs": [
    {
     "name": "stdout",
     "output_type": "stream",
     "text": [
      "[0 0 0 ... 0 1 0]\n"
     ]
    }
   ],
   "source": [
    "from sklearn.model_selection import train_test_split\n",
    "from sklearn.naive_bayes import GaussianNB\n",
    "\n",
    "X=data[features] #Bierzemy pod uwagę wszystkie cechy\n",
    "y=data[\"poisonous\"]\n",
    "X_train, X_test, y_train, y_test = train_test_split(X, y, test_size=0.2, random_state=0)\n",
    "gnb = GaussianNB()\n",
    "y_pred = gnb.fit(X_train, y_train).predict(X_test)\n",
    "print(y_pred)"
   ]
  },
  {
   "cell_type": "code",
   "execution_count": 42,
   "metadata": {},
   "outputs": [
    {
     "data": {
      "text/plain": [
       "<Axes: >"
      ]
     },
     "execution_count": 42,
     "metadata": {},
     "output_type": "execute_result"
    },
    {
     "data": {
      "image/png": "[encoded data removed]",
      "text/plain": [
       "<Figure size 640x480 with 2 Axes>"
      ]
     },
     "metadata": {},
     "output_type": "display_data"
    }
   ],
   "source": [
    "import seaborn as sns\n",
    "from sklearn.metrics import confusion_matrix\n",
    "cm = confusion_matrix(y_test, y_pred)\n",
    "sns.heatmap(cm, annot=True)"
   ]
  },
  {
   "cell_type": "code",
   "execution_count": 43,
   "metadata": {},
   "outputs": [
    {
     "name": "stdout",
     "output_type": "stream",
     "text": [
      "              precision    recall  f1-score   support\n",
      "\n",
      "           0       0.96      1.00      0.98       702\n",
      "           1       1.00      0.96      0.98       750\n",
      "\n",
      "    accuracy                           0.98      1452\n",
      "   macro avg       0.98      0.98      0.98      1452\n",
      "weighted avg       0.98      0.98      0.98      1452\n",
      "\n"
     ]
    }
   ],
   "source": [
    "from sklearn.metrics import classification_report\n",
    "print(classification_report(y_test, y_pred))"
   ]
  },
  {
   "cell_type": "code",
   "execution_count": 44,
   "metadata": {},
   "outputs": [
    {
     "name": "stdout",
     "output_type": "stream",
     "text": [
      "Index(['cap-shape_b', 'cap-color_b', 'bruises?_f'], dtype='object')\n",
      "[0 0 0 ... 0 1 0]\n"
     ]
    }
   ],
   "source": [
    "print(features[range(0,21,10)]) # Bierzemy pod uwagę trzy cechy: 'cap-shape_b', 'cap-color_b', 'bruises?_f'\n",
    "X2=data[features[range(0,21,10)]]\n",
    "#y=data[\"poisonous\"]\n",
    "X_train2, X_test2, y_train2, y_test2 = train_test_split(X2, y, test_size=0.2, random_state=0)\n",
    "gnb = GaussianNB()\n",
    "y_pred2 = gnb.fit(X_train2, y_train2).predict(X_test2)\n",
    "print(y_pred)"
   ]
  },
  {
   "cell_type": "code",
   "execution_count": 45,
   "metadata": {},
   "outputs": [
    {
     "data": {
      "text/plain": [
       "<Axes: >"
      ]
     },
     "execution_count": 45,
     "metadata": {},
     "output_type": "execute_result"
    },
    {
     "data": {
      "image/png": "[encoded data removed]",
      "text/plain": [
       "<Figure size 640x480 with 2 Axes>"
      ]
     },
     "metadata": {},
     "output_type": "display_data"
    }
   ],
   "source": [
    "cm = confusion_matrix(y_test2, y_pred2)\n",
    "sns.heatmap(cm, annot=True)"
   ]
  },
  {
   "cell_type": "code",
   "execution_count": 46,
   "metadata": {},
   "outputs": [
    {
     "name": "stdout",
     "output_type": "stream",
     "text": [
      "              precision    recall  f1-score   support\n",
      "\n",
      "           0       0.70      0.86      0.77       702\n",
      "           1       0.83      0.66      0.74       750\n",
      "\n",
      "    accuracy                           0.76      1452\n",
      "   macro avg       0.77      0.76      0.76      1452\n",
      "weighted avg       0.77      0.76      0.75      1452\n",
      "\n"
     ]
    }
   ],
   "source": [
    "from sklearn.metrics import classification_report\n",
    "print(classification_report(y_test2, y_pred2))"
   ]
  },
  {
   "cell_type": "code",
   "execution_count": 47,
   "metadata": {},
   "outputs": [
    {
     "name": "stdout",
     "output_type": "stream",
     "text": [
      "Dokładność modelu przy użyciu wszystkich cech 0.9772727272727273\n",
      "Dokładność modelu przy użyciu trzech cech 0.7568870523415978\n"
     ]
    }
   ],
   "source": [
    "from sklearn.metrics import accuracy_score\n",
    "print(\"Dokładność modelu przy użyciu wszystkich cech\",accuracy_score(y_test, y_pred))\n",
    "print(\"Dokładność modelu przy użyciu trzech cech\",accuracy_score(y_test2, y_pred2))\n",
    "# Wyniki ewaluacji dla modelu z trzema cechami są mniejsze niż dla modelu ze wszystkimi cechami"
   ]
  }
 ],
 "metadata": {
  "kernelspec": {
   "display_name": "Python 3",
   "language": "python",
   "name": "python3"
  },
  "language_info": {
   "codemirror_mode": {
    "name": "ipython",
    "version": 3
   },
   "file_extension": ".py",
   "mimetype": "text/x-python",
   "name": "python",
   "nbconvert_exporter": "python",
   "pygments_lexer": "ipython3",
   "version": "3.10.10"
  },
  "orig_nbformat": 4
 },
 "nbformat": 4,
 "nbformat_minor": 2
}
