{
 "cells": [
  {
   "cell_type": "code",
   "execution_count": 9,
   "metadata": {},
   "outputs": [
    {
     "name": "stdout",
     "output_type": "stream",
     "text": [
      "        cena  Powierzchnia w m2  Liczba pokoi  Liczba pięter w budynku  Piętro\n",
      "0     290386                 46             2                      5.0  parter\n",
      "1     450000                 59             2                      3.0       2\n",
      "2     375000                 79             3                     16.0       5\n",
      "3     400000                 63             3                      2.0       2\n",
      "4     389285                 59             3                     13.0      12\n",
      "...      ...                ...           ...                      ...     ...\n",
      "4933  329900                 97             4                      4.0       4\n",
      "4934  695303                 48             2                      4.0       3\n",
      "4935  344152                 67             3                      2.0  parter\n",
      "4936  650000                161             5                      1.0     NaN\n",
      "4937  127900                 36             2                      2.0       2\n",
      "\n",
      "[4938 rows x 5 columns]\n"
     ]
    }
   ],
   "source": [
    "import pandas as pd\n",
    "\n",
    "data = pd.read_csv(\"flats_for_clustering.tsv\",sep='\\t')\n",
    "print(data)"
   ]
  },
  {
   "cell_type": "code",
   "execution_count": 10,
   "metadata": {},
   "outputs": [
    {
     "name": "stdout",
     "output_type": "stream",
     "text": [
      "Cena:\n",
      " [290386 450000 375000 ... 329900 695303 127900]\n",
      "Powierzchnia w m2:\n",
      " [   46    59    79    63    90    66    32    38    68    43   185    64\n",
      "   165    71    73    51    70    48    42    33   203    88    41    31\n",
      "    45    62    60   295    53    84   170    56    47   228    44    67\n",
      "    49    37    87    36    55    57   118    65    30    28   230    54\n",
      "    52    95    50    26   171   282    77    40   150   300    39   145\n",
      "   370   140   225    29    61   135    27   270   177    85    92   132\n",
      "    75   200    74   219   220    96   235    20   153   318   104    58\n",
      "    72   117   189    81   111    35   280   141   195   120   250    97\n",
      "   154   114    76   287    34   180   160   176   148    98   217    86\n",
      "   260   198    78   183    80   163    82   100   156   320    89   103\n",
      "   159   125   340   149   175   237   110   182   186   106   233   197\n",
      "   136   162   157   240   211    83   196    69   102    91   108   130\n",
      "   510   143  1200   178   226   190   151   138   161   142   683   146\n",
      "    94   109   263   112   855   376   218   113   215   264   139   129\n",
      "   167   600    24   174   296   315   232   298   330    93   301   127\n",
      "   290   275   375   124   252   173   158    25   269   128   192   155\n",
      "    99   126   147   288   119   206   105   224   346   339   204  1100\n",
      "   392   243   101    18   202   205   107   199   137   134   144   216\n",
      "   172   239   116   364   121    23   267   369 11930   122   400   209\n",
      "   210   268   500   123   245    15    22   335   262   438   307   184\n",
      "   354   249   431   214   164   328   800    16   229   152   650   241\n",
      "   187   276   297   443   353   360   350   213    19   265]\n",
      "Liczba pokoi:\n",
      " [2 3 4 1 5 6 8 7]\n",
      "Liczba pięter w budynku:\n",
      " [ 5.  3. 16.  2. 13.  1. nan  7.  8.  4. 15.  6. 10. 12. 11. 14.  9. 18.]\n",
      "Piętro:\n",
      " ['parter' '2' '5' '12' '1' '3' nan '8' '4' '16' '7' '6' 'poddasze' '9'\n",
      " '11' '13' '14' '10' '15' 'niski parter']\n"
     ]
    }
   ],
   "source": [
    "print(\"Cena:\\n\",data[\"cena\"].unique())\n",
    "print(\"Powierzchnia w m2:\\n\",data[\"Powierzchnia w m2\"].unique())\n",
    "print(\"Liczba pokoi:\\n\",data[\"Liczba pokoi\"].unique())\n",
    "print(\"Liczba pięter w budynku:\\n\",data[\"Liczba pięter w budynku\"].unique())\n",
    "print(\"Piętro:\\n\",data[\"Piętro\"].unique())"
   ]
  },
  {
   "cell_type": "code",
   "execution_count": 11,
   "metadata": {},
   "outputs": [
    {
     "name": "stdout",
     "output_type": "stream",
     "text": [
      "        cena  Powierzchnia w m2  Liczba pokoi  Liczba pięter w budynku Piętro\n",
      "0     290386                 46             2                      5.0      0\n",
      "1     450000                 59             2                      3.0      2\n",
      "2     375000                 79             3                     16.0      5\n",
      "3     400000                 63             3                      2.0      2\n",
      "4     389285                 59             3                     13.0     12\n",
      "...      ...                ...           ...                      ...    ...\n",
      "4933  329900                 97             4                      4.0      4\n",
      "4934  695303                 48             2                      4.0      3\n",
      "4935  344152                 67             3                      2.0      0\n",
      "4936  650000                161             5                      1.0    NaN\n",
      "4937  127900                 36             2                      2.0      2\n",
      "\n",
      "[4933 rows x 5 columns]\n"
     ]
    }
   ],
   "source": [
    "#Czyszczenie danych:\n",
    "data= data[data[\"Piętro\"]!=\"poddasze\"]\n",
    "data[\"Piętro\"].replace(\"niski parter\",0,inplace=True)\n",
    "data[\"Piętro\"].replace(\"parter\",0,inplace=True)\n",
    "print(data)"
   ]
  },
  {
   "cell_type": "code",
   "execution_count": 12,
   "metadata": {},
   "outputs": [
    {
     "data": {
      "text/plain": [
       "cena                         0\n",
       "Powierzchnia w m2            0\n",
       "Liczba pokoi                 0\n",
       "Liczba pięter w budynku    150\n",
       "Piętro                     579\n",
       "dtype: int64"
      ]
     },
     "execution_count": 12,
     "metadata": {},
     "output_type": "execute_result"
    }
   ],
   "source": [
    "data.isnull().sum(axis = 0)"
   ]
  },
  {
   "cell_type": "code",
   "execution_count": 13,
   "metadata": {},
   "outputs": [
    {
     "name": "stdout",
     "output_type": "stream",
     "text": [
      "Średnia liczba pięter w budynku 5.317\n",
      "Średnie piętro 2.72\n"
     ]
    }
   ],
   "source": [
    "mean=round(data.loc[:, 'Liczba pięter w budynku'].mean(),3)\n",
    "print(\"Średnia liczba pięter w budynku\",mean)\n",
    "data[\"Piętro\"] = pd.to_numeric(data[\"Piętro\"])\n",
    "data.loc[data['Liczba pięter w budynku'].isna(), 'Liczba pięter w budynku']=mean\n",
    "mean2=round(data.loc[:, 'Piętro'].mean(),2)\n",
    "print(\"Średnie piętro\",mean2)\n",
    "data.loc[data['Piętro'].isna(), 'Piętro']=mean2"
   ]
  },
  {
   "cell_type": "code",
   "execution_count": 14,
   "metadata": {},
   "outputs": [
    {
     "name": "stdout",
     "output_type": "stream",
     "text": [
      "        cena  Powierzchnia w m2  Liczba pokoi  Liczba pięter w budynku  Piętro\n",
      "0     290386                 46             2                      5.0    0.00\n",
      "1     450000                 59             2                      3.0    2.00\n",
      "2     375000                 79             3                     16.0    5.00\n",
      "3     400000                 63             3                      2.0    2.00\n",
      "4     389285                 59             3                     13.0   12.00\n",
      "...      ...                ...           ...                      ...     ...\n",
      "4933  329900                 97             4                      4.0    4.00\n",
      "4934  695303                 48             2                      4.0    3.00\n",
      "4935  344152                 67             3                      2.0    0.00\n",
      "4936  650000                161             5                      1.0    2.72\n",
      "4937  127900                 36             2                      2.0    2.00\n",
      "\n",
      "[4933 rows x 5 columns]\n"
     ]
    }
   ],
   "source": [
    "#Dane po oczyszczeniu:\n",
    "print(data)"
   ]
  },
  {
   "cell_type": "code",
   "execution_count": 15,
   "metadata": {},
   "outputs": [
    {
     "name": "stdout",
     "output_type": "stream",
     "text": [
      "[[-3.99314600e-01 -1.68623641e-01 -6.78004380e-01 -8.83305034e-02\n",
      "  -1.04496583e+00]\n",
      " [ 9.24521725e-02 -9.66620687e-02 -6.78004380e-01 -6.46409813e-01\n",
      "  -2.75812951e-01]\n",
      " [-1.38620966e-01  1.40480426e-02  1.23672419e-01  2.98110570e+00\n",
      "   8.77916363e-01]\n",
      " ...\n",
      " [-2.33662888e-01 -5.23780242e-02  1.23672419e-01 -9.25449468e-01\n",
      "  -1.04496583e+00]\n",
      " [ 7.08647208e-01  4.67959499e-01  1.72702602e+00 -1.20448912e+00\n",
      "   1.08208412e-03]\n",
      " [-8.99929932e-01 -2.23978697e-01 -6.78004380e-01 -9.25449468e-01\n",
      "  -2.75812951e-01]]\n",
      "[1 1 2 0 2 0 0 1 1 0 1 1 4 0 4 2 0 2 1 0]\n"
     ]
    },
    {
     "name": "stderr",
     "output_type": "stream",
     "text": [
      "c:\\software\\python3\\lib\\site-packages\\sklearn\\cluster\\_kmeans.py:870: FutureWarning: The default value of `n_init` will change from 10 to 'auto' in 1.4. Set the value of `n_init` explicitly to suppress the warning\n",
      "  warnings.warn(\n"
     ]
    }
   ],
   "source": [
    "from sklearn.cluster import KMeans\n",
    "from sklearn.preprocessing import StandardScaler\n",
    "\n",
    "scaler = StandardScaler()\n",
    "scaled=scaler.fit_transform(data)\n",
    "print(scaled)\n",
    "\n",
    "kmeans = KMeans(init=\"random\", n_clusters=5)\n",
    "label=kmeans.fit_predict(scaled)\n",
    "print(label[0:20])"
   ]
  },
  {
   "cell_type": "code",
   "execution_count": 16,
   "metadata": {},
   "outputs": [
    {
     "data": {
      "text/plain": [
       "<Axes: >"
      ]
     },
     "execution_count": 16,
     "metadata": {},
     "output_type": "execute_result"
    },
    {
     "data": {
      "image/png": "[encoded data removed]",
      "text/plain": [
       "<Figure size 640x480 with 1 Axes>"
      ]
     },
     "metadata": {},
     "output_type": "display_data"
    }
   ],
   "source": [
    "from sklearn.decomposition import PCA\n",
    "import matplotlib.pyplot as plt\n",
    "import seaborn as sns\n",
    "pca = PCA(n_components=2)\n",
    "transformed=pca.fit_transform(scaled)\n",
    "sns.scatterplot(x=transformed[:,0], y=transformed[:,1], hue=kmeans.labels_)"
   ]
  }
 ],
 "metadata": {
  "kernelspec": {
   "display_name": "Python 3",
   "language": "python",
   "name": "python3"
  },
  "language_info": {
   "codemirror_mode": {
    "name": "ipython",
    "version": 3
   },
   "file_extension": ".py",
   "mimetype": "text/x-python",
   "name": "python",
   "nbconvert_exporter": "python",
   "pygments_lexer": "ipython3",
   "version": "3.10.10"
  },
  "orig_nbformat": 4
 },
 "nbformat": 4,
 "nbformat_minor": 2
}
