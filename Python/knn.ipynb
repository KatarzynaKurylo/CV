{
 "cells": [
  {
   "cell_type": "code",
   "execution_count": 11,
   "metadata": {},
   "outputs": [
    {
     "name": "stdout",
     "output_type": "stream",
     "text": [
      "     poisonous cap-shape cap-surface cap-color bruises? odor g-attachment  \\\n",
      "0            e         b           s         w        t    l            f   \n",
      "1            p         x           y         n        t    p            f   \n",
      "2            e         b           y         w        t    a            f   \n",
      "3            e         b           s         w        t    l            f   \n",
      "4            e         x           y         y        t    l            f   \n",
      "...        ...       ...         ...       ...      ...  ...          ...   \n",
      "7252         p         k           y         n        f    f            f   \n",
      "7253         e         k           s         n        f    n            a   \n",
      "7254         e         f           s         n        f    n            a   \n",
      "7255         p         k           y         n        f    y            f   \n",
      "7256         e         x           s         n        f    n            a   \n",
      "\n",
      "     g-spacing g-size g-color  ... ssb-ring sca-ring scb-ring veil-t veil-c  \\\n",
      "0            c      b       n  ...        s        w        w      p      w   \n",
      "1            c      n       n  ...        s        w        w      p      w   \n",
      "2            c      b       w  ...        s        w        w      p      w   \n",
      "3            c      b       g  ...        s        w        w      p      w   \n",
      "4            c      b       n  ...        s        w        w      p      w   \n",
      "...        ...    ...     ...  ...      ...      ...      ...    ...    ...   \n",
      "7252         c      n       b  ...        s        p        w      p      w   \n",
      "7253         c      b       y  ...        s        o        o      p      o   \n",
      "7254         c      b       n  ...        s        o        o      p      o   \n",
      "7255         c      n       b  ...        k        w        w      p      w   \n",
      "7256         c      b       y  ...        s        o        o      p      o   \n",
      "\n",
      "     ring-n ring-t sp-color population habitat  \n",
      "0         o      p        n          n       m  \n",
      "1         o      p        n          v       g  \n",
      "2         o      p        n          n       m  \n",
      "3         o      p        k          s       m  \n",
      "4         o      p        n          n       m  \n",
      "...     ...    ...      ...        ...     ...  \n",
      "7252      o      e        w          v       d  \n",
      "7253      o      p        b          c       l  \n",
      "7254      o      p        b          c       l  \n",
      "7255      o      e        w          v       l  \n",
      "7256      o      p        o          c       l  \n",
      "\n",
      "[7257 rows x 23 columns]\n"
     ]
    }
   ],
   "source": [
    "import pandas as pd\n",
    "\n",
    "colnames=[\"poisonous\",\"cap-shape\",\"cap-surface\",\"cap-color\",\"bruises?\",\"odor\",\"g-attachment\",\"g-spacing\",\"g-size\",\"g-color\",\"s-shape\",\"s-root\",\"ssa-ring\",\"ssb-ring\",\"sca-ring\",\"scb-ring\",\"veil-t\",\"veil-c\",\"ring-n\",\"ring-t\",\"sp-color\",\"population\",\"habitat\"]\n",
    "data = pd.read_csv(\"mushrooms.tsv\",sep='\\t',header=None,names=colnames)\n",
    "\n",
    "print(data)"
   ]
  },
  {
   "cell_type": "code",
   "execution_count": 12,
   "metadata": {},
   "outputs": [
    {
     "name": "stdout",
     "output_type": "stream",
     "text": [
      "<class 'pandas.core.frame.DataFrame'>\n",
      "RangeIndex: 7257 entries, 0 to 7256\n",
      "Data columns (total 23 columns):\n",
      " #   Column        Non-Null Count  Dtype \n",
      "---  ------        --------------  ----- \n",
      " 0   poisonous     7257 non-null   object\n",
      " 1   cap-shape     7257 non-null   object\n",
      " 2   cap-surface   7257 non-null   object\n",
      " 3   cap-color     7257 non-null   object\n",
      " 4   bruises?      7257 non-null   object\n",
      " 5   odor          7257 non-null   object\n",
      " 6   g-attachment  7257 non-null   object\n",
      " 7   g-spacing     7257 non-null   object\n",
      " 8   g-size        7257 non-null   object\n",
      " 9   g-color       7257 non-null   object\n",
      " 10  s-shape       7257 non-null   object\n",
      " 11  s-root        7257 non-null   object\n",
      " 12  ssa-ring      7257 non-null   object\n",
      " 13  ssb-ring      7257 non-null   object\n",
      " 14  sca-ring      7257 non-null   object\n",
      " 15  scb-ring      7257 non-null   object\n",
      " 16  veil-t        7257 non-null   object\n",
      " 17  veil-c        7257 non-null   object\n",
      " 18  ring-n        7257 non-null   object\n",
      " 19  ring-t        7257 non-null   object\n",
      " 20  sp-color      7257 non-null   object\n",
      " 21  population    7257 non-null   object\n",
      " 22  habitat       7257 non-null   object\n",
      "dtypes: object(23)\n",
      "memory usage: 1.3+ MB\n"
     ]
    }
   ],
   "source": [
    "data.info()"
   ]
  },
  {
   "cell_type": "code",
   "execution_count": 13,
   "metadata": {},
   "outputs": [
    {
     "name": "stdout",
     "output_type": "stream",
     "text": [
      "      poisonous  cap-shape_b  cap-shape_c  cap-shape_f  cap-shape_k  \\\n",
      "0             1            1            0            0            0   \n",
      "1             0            0            0            0            0   \n",
      "2             1            1            0            0            0   \n",
      "3             1            1            0            0            0   \n",
      "4             1            0            0            0            0   \n",
      "...         ...          ...          ...          ...          ...   \n",
      "7252          0            0            0            0            1   \n",
      "7253          1            0            0            0            1   \n",
      "7254          1            0            0            1            0   \n",
      "7255          0            0            0            0            1   \n",
      "7256          1            0            0            0            0   \n",
      "\n",
      "      cap-shape_s  cap-shape_x  cap-surface_f  cap-surface_g  cap-surface_s  \\\n",
      "0               0            0              0              0              1   \n",
      "1               0            1              0              0              0   \n",
      "2               0            0              0              0              0   \n",
      "3               0            0              0              0              1   \n",
      "4               0            1              0              0              0   \n",
      "...           ...          ...            ...            ...            ...   \n",
      "7252            0            0              0              0              0   \n",
      "7253            0            0              0              0              1   \n",
      "7254            0            0              0              0              1   \n",
      "7255            0            0              0              0              0   \n",
      "7256            0            1              0              0              1   \n",
      "\n",
      "      ...  population_s  population_v  population_y  habitat_d  habitat_g  \\\n",
      "0     ...             0             0             0          0          0   \n",
      "1     ...             0             1             0          0          1   \n",
      "2     ...             0             0             0          0          0   \n",
      "3     ...             1             0             0          0          0   \n",
      "4     ...             0             0             0          0          0   \n",
      "...   ...           ...           ...           ...        ...        ...   \n",
      "7252  ...             0             1             0          1          0   \n",
      "7253  ...             0             0             0          0          0   \n",
      "7254  ...             0             0             0          0          0   \n",
      "7255  ...             0             1             0          0          0   \n",
      "7256  ...             0             0             0          0          0   \n",
      "\n",
      "      habitat_l  habitat_m  habitat_p  habitat_u  habitat_w  \n",
      "0             0          1          0          0          0  \n",
      "1             0          0          0          0          0  \n",
      "2             0          1          0          0          0  \n",
      "3             0          1          0          0          0  \n",
      "4             0          1          0          0          0  \n",
      "...         ...        ...        ...        ...        ...  \n",
      "7252          0          0          0          0          0  \n",
      "7253          1          0          0          0          0  \n",
      "7254          1          0          0          0          0  \n",
      "7255          1          0          0          0          0  \n",
      "7256          1          0          0          0          0  \n",
      "\n",
      "[7257 rows x 118 columns]\n"
     ]
    }
   ],
   "source": [
    "data[\"poisonous\"].replace(\"e\",1,inplace=True) #Kolumna zerowa to test\n",
    "data[\"poisonous\"].replace(\"p\",0,inplace=True)\n",
    "data = pd.get_dummies(data)\n",
    "print(data)"
   ]
  },
  {
   "cell_type": "code",
   "execution_count": 14,
   "metadata": {},
   "outputs": [
    {
     "name": "stdout",
     "output_type": "stream",
     "text": [
      "Index(['cap-shape_b', 'cap-shape_c', 'cap-shape_f', 'cap-shape_k',\n",
      "       'cap-shape_s', 'cap-shape_x', 'cap-surface_f', 'cap-surface_g',\n",
      "       'cap-surface_s', 'cap-surface_y',\n",
      "       ...\n",
      "       'population_s', 'population_v', 'population_y', 'habitat_d',\n",
      "       'habitat_g', 'habitat_l', 'habitat_m', 'habitat_p', 'habitat_u',\n",
      "       'habitat_w'],\n",
      "      dtype='object', length=117)\n"
     ]
    }
   ],
   "source": [
    "features=data.columns\n",
    "features=features[1:]\n",
    "print(features)"
   ]
  },
  {
   "cell_type": "code",
   "execution_count": 15,
   "metadata": {},
   "outputs": [
    {
     "name": "stdout",
     "output_type": "stream",
     "text": [
      "[0 0 0 ... 0 1 0]\n"
     ]
    }
   ],
   "source": [
    "#k=3\n",
    "from sklearn.model_selection import train_test_split\n",
    "from sklearn.neighbors import KNeighborsClassifier\n",
    "\n",
    "X=data[features] #Bierzemy pod uwagę wszystkie cechy\n",
    "y=data[\"poisonous\"]\n",
    "X_train, X_test, y_train, y_test = train_test_split(X, y, test_size=0.2, random_state=0)\n",
    "neigh = KNeighborsClassifier(n_neighbors=3)\n",
    "y_pred = neigh.fit(X_train, y_train).predict(X_test)\n",
    "print(y_pred)\n"
   ]
  },
  {
   "cell_type": "code",
   "execution_count": 16,
   "metadata": {},
   "outputs": [
    {
     "data": {
      "text/plain": [
       "<Axes: >"
      ]
     },
     "execution_count": 16,
     "metadata": {},
     "output_type": "execute_result"
    },
    {
     "data": {
      "image/png": "[encoded data removed]",
      "text/plain": [
       "<Figure size 640x480 with 2 Axes>"
      ]
     },
     "metadata": {},
     "output_type": "display_data"
    }
   ],
   "source": [
    "import seaborn as sns\n",
    "from sklearn.metrics import confusion_matrix\n",
    "cm = confusion_matrix(y_test, y_pred)\n",
    "sns.heatmap(cm, annot=True)"
   ]
  },
  {
   "cell_type": "code",
   "execution_count": 17,
   "metadata": {},
   "outputs": [
    {
     "name": "stdout",
     "output_type": "stream",
     "text": [
      "              precision    recall  f1-score   support\n",
      "\n",
      "           0       1.00      1.00      1.00       702\n",
      "           1       1.00      1.00      1.00       750\n",
      "\n",
      "    accuracy                           1.00      1452\n",
      "   macro avg       1.00      1.00      1.00      1452\n",
      "weighted avg       1.00      1.00      1.00      1452\n",
      "\n"
     ]
    }
   ],
   "source": [
    "from sklearn.metrics import classification_report\n",
    "print(classification_report(y_test, y_pred))"
   ]
  },
  {
   "cell_type": "code",
   "execution_count": 42,
   "metadata": {},
   "outputs": [
    {
     "name": "stdout",
     "output_type": "stream",
     "text": [
      "[1 0 0 ... 0 1 0]\n"
     ]
    }
   ],
   "source": [
    "#k=300\n",
    "neigh = KNeighborsClassifier(n_neighbors=300)\n",
    "y_pred = neigh.fit(X_train, y_train).predict(X_test)\n",
    "print(y_pred)"
   ]
  },
  {
   "cell_type": "code",
   "execution_count": 43,
   "metadata": {},
   "outputs": [
    {
     "data": {
      "text/plain": [
       "<Axes: >"
      ]
     },
     "execution_count": 43,
     "metadata": {},
     "output_type": "execute_result"
    },
    {
     "data": {
      "image/png": "[encoded data removed]",
      "text/plain": [
       "<Figure size 640x480 with 2 Axes>"
      ]
     },
     "metadata": {},
     "output_type": "display_data"
    }
   ],
   "source": [
    "cm = confusion_matrix(y_test, y_pred)\n",
    "sns.heatmap(cm, annot=True)"
   ]
  },
  {
   "cell_type": "code",
   "execution_count": 44,
   "metadata": {},
   "outputs": [
    {
     "name": "stdout",
     "output_type": "stream",
     "text": [
      "              precision    recall  f1-score   support\n",
      "\n",
      "           0       0.96      0.97      0.97       702\n",
      "           1       0.97      0.97      0.97       750\n",
      "\n",
      "    accuracy                           0.97      1452\n",
      "   macro avg       0.97      0.97      0.97      1452\n",
      "weighted avg       0.97      0.97      0.97      1452\n",
      "\n"
     ]
    }
   ],
   "source": [
    "from sklearn.metrics import classification_report\n",
    "print(classification_report(y_test, y_pred))"
   ]
  },
  {
   "cell_type": "code",
   "execution_count": 41,
   "metadata": {},
   "outputs": [
    {
     "name": "stdout",
     "output_type": "stream",
     "text": [
      "[1.0, 1.0, 1.0, 1.0, 1.0, 1.0, 1.0, 0.9993112947658402, 0.9986225895316805, 0.9979338842975206, 0.9979338842975206, 0.9986225895316805, 0.9986225895316805, 0.9979338842975206, 0.9993112947658402, 0.9972451790633609, 0.9972451790633609, 0.9965564738292011, 0.9965564738292011, 0.9958677685950413, 0.9924242424242424, 0.9917355371900827, 0.9910468319559229, 0.9910468319559229, 0.9910468319559229, 0.9882920110192838, 0.9841597796143251, 0.981404958677686, 0.9793388429752066, 0.977961432506887, 0.9765840220385675, 0.9758953168044077, 0.9758953168044077, 0.9745179063360881, 0.9752066115702479, 0.9745179063360881, 0.9752066115702479, 0.9752066115702479, 0.9738292011019284, 0.9731404958677686, 0.9731404958677686, 0.9731404958677686, 0.9731404958677686, 0.9724517906336089, 0.9724517906336089, 0.9724517906336089, 0.9724517906336089, 0.9724517906336089, 0.9724517906336089, 0.9724517906336089, 0.9710743801652892, 0.9710743801652892, 0.9696969696969697, 0.9696969696969697, 0.9696969696969697, 0.9696969696969697, 0.96900826446281, 0.96900826446281, 0.9683195592286501, 0.9683195592286501, 0.9676308539944903, 0.9662534435261708, 0.9662534435261708, 0.9655647382920111, 0.9648760330578512, 0.9648760330578512, 0.9641873278236914, 0.9641873278236914, 0.9641873278236914, 0.9648760330578512, 0.9634986225895317, 0.9614325068870524, 0.9552341597796143, 0.9517906336088154, 0.9483471074380165, 0.9483471074380165, 0.9462809917355371, 0.9442148760330579, 0.9435261707988981, 0.9428374655647382, 0.9428374655647382, 0.9421487603305785, 0.9380165289256198, 0.9352617079889807, 0.9290633608815427, 0.9263085399449036, 0.9228650137741047, 0.9207988980716253, 0.9180440771349863, 0.9152892561983471, 0.9090909090909091, 0.9042699724517906, 0.9042699724517906, 0.9028925619834711, 0.8994490358126722, 0.8966942148760331, 0.8939393939393939, 0.8932506887052342, 0.8891184573002755, 0.8884297520661157]\n"
     ]
    },
    {
     "data": {
      "text/plain": [
       "[<matplotlib.lines.Line2D at 0x25802b94e20>]"
      ]
     },
     "execution_count": 41,
     "metadata": {},
     "output_type": "execute_result"
    },
    {
     "data": {
      "image/png": "[encoded data removed]",
      "text/plain": [
       "<Figure size 640x480 with 1 Axes>"
      ]
     },
     "metadata": {},
     "output_type": "display_data"
    }
   ],
   "source": [
    "#Dokładność klasyfikatora dla różnych wartości k\n",
    "\n",
    "from sklearn.metrics import accuracy_score\n",
    "accuracy=[]\n",
    "for k in range(1,500,5):\n",
    "    neigh = KNeighborsClassifier(n_neighbors=k)\n",
    "    y_pred = neigh.fit(X_train, y_train).predict(X_test)\n",
    "    accuracy.append(accuracy_score(y_test,y_pred))\n",
    "print(accuracy)\n",
    "\n",
    "import matplotlib.pyplot as plt\n",
    "plt.plot(accuracy)"
   ]
  }
 ],
 "metadata": {
  "kernelspec": {
   "display_name": "Python 3",
   "language": "python",
   "name": "python3"
  },
  "language_info": {
   "codemirror_mode": {
    "name": "ipython",
    "version": 3
   },
   "file_extension": ".py",
   "mimetype": "text/x-python",
   "name": "python",
   "nbconvert_exporter": "python",
   "pygments_lexer": "ipython3",
   "version": "3.10.10"
  },
  "orig_nbformat": 4
 },
 "nbformat": 4,
 "nbformat_minor": 2
}
