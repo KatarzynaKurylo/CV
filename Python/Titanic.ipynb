{
 "cells": [
  {
   "cell_type": "code",
   "execution_count": 55,
   "metadata": {},
   "outputs": [
    {
     "name": "stdout",
     "output_type": "stream",
     "text": [
      "     Survived  PassengerId  Pclass  \\\n",
      "0           0          530       2   \n",
      "1           0          466       3   \n",
      "2           0          753       3   \n",
      "3           0          855       2   \n",
      "4           0          333       1   \n",
      "..        ...          ...     ...   \n",
      "618         0          660       1   \n",
      "619         1           85       2   \n",
      "620         1          521       1   \n",
      "621         1          644       3   \n",
      "622         1          831       3   \n",
      "\n",
      "                                               Name     Sex   Age  SibSp  \\\n",
      "0                      Hocking\\t Mr. Richard George    male  23.0      2   \n",
      "1                  Goncalves\\t Mr. Manuel Estanslas    male  38.0      0   \n",
      "2                 Vande Velde\\t Mr. Johannes Joseph    male  33.0      0   \n",
      "3    Carter\\t Mrs. Ernest Courtenay (Lilian Hughes)  female  44.0      1   \n",
      "4                        Graham\\t Mr. George Edward    male  38.0      0   \n",
      "..                                              ...     ...   ...    ...   \n",
      "618                     Newell\\t Mr. Arthur Webster    male  58.0      0   \n",
      "619                            Ilett\\t Miss. Bertha  female  17.0      0   \n",
      "620                          Perreault\\t Miss. Anne  female  30.0      0   \n",
      "621                                Foo\\t Mr. Choong    male   NaN      0   \n",
      "622        Yasbeck\\t Mrs. Antoni (Selini Alexander)  female  15.0      1   \n",
      "\n",
      "     Parch              Ticket      Fare Cabin Embarked  \n",
      "0        1               29104   11.5000   NaN        S  \n",
      "1        0  SOTON/O.Q. 3101306    7.0500   NaN        S  \n",
      "2        0              345780    9.5000   NaN        S  \n",
      "3        0              244252   26.0000   NaN        S  \n",
      "4        1            PC 17582  153.4625   C91        S  \n",
      "..     ...                 ...       ...   ...      ...  \n",
      "618      2               35273  113.2750   D48        C  \n",
      "619      0          SO/C 14885   10.5000   NaN        S  \n",
      "620      0               12749   93.5000   B73        S  \n",
      "621      0                1601   56.4958   NaN        S  \n",
      "622      0                2659   14.4542   NaN        C  \n",
      "\n",
      "[623 rows x 12 columns]\n"
     ]
    }
   ],
   "source": [
    "import pandas as pd\n",
    "\n",
    "data = pd.read_csv(\"titanic.tsv\",sep=\"\\t\")\n",
    "print(data)"
   ]
  },
  {
   "cell_type": "code",
   "execution_count": 56,
   "metadata": {},
   "outputs": [],
   "source": [
    "# Przygotowanie danych:\n",
    "# Age\n",
    "data.loc[data['Age'].isna(), 'Age']=round(data.loc[:, 'Age'].mean(),2)\n",
    "# Sex\n",
    "data['Sex'].replace(['female','male'],[0,1],inplace=True)\n",
    "# Name\n",
    "for i in range(0,len(data.index)):\n",
    "    row=data.loc[i,\"Name\"].split(\"\\t \")[1]\n",
    "    row=row.split()[0]\n",
    "    data.loc[i,\"Name\"]=row\n",
    "# Ticket\n",
    "data.drop(\"Ticket\", axis=1, inplace=True)\n",
    "# Cabin\n",
    "data[\"Cabin\"] = data[\"Cabin\"].astype(str).str[0]\n",
    "# Embarked\n",
    "data = data.dropna(axis=0, subset=['Embarked'])"
   ]
  },
  {
   "cell_type": "code",
   "execution_count": 57,
   "metadata": {},
   "outputs": [
    {
     "name": "stdout",
     "output_type": "stream",
     "text": [
      "     Survived  PassengerId  Sex    Age  SibSp  Parch      Fare  Pclass_2  \\\n",
      "0           0          530    1  23.00      2      1   11.5000         1   \n",
      "1           0          466    1  38.00      0      0    7.0500         0   \n",
      "2           0          753    1  33.00      0      0    9.5000         0   \n",
      "3           0          855    0  44.00      1      0   26.0000         1   \n",
      "4           0          333    1  38.00      0      1  153.4625         0   \n",
      "..        ...          ...  ...    ...    ...    ...       ...       ...   \n",
      "618         0          660    1  58.00      0      2  113.2750         0   \n",
      "619         1           85    0  17.00      0      0   10.5000         1   \n",
      "620         1          521    0  30.00      0      0   93.5000         0   \n",
      "621         1          644    1  29.36      0      0   56.4958         0   \n",
      "622         1          831    0  15.00      1      0   14.4542         0   \n",
      "\n",
      "     Pclass_3  Name_Col.  ...  Embarked_Q  Embarked_S  Cabin_B  Cabin_C  \\\n",
      "0           0          0  ...           0           1        0        0   \n",
      "1           1          0  ...           0           1        0        0   \n",
      "2           1          0  ...           0           1        0        0   \n",
      "3           0          0  ...           0           1        0        0   \n",
      "4           0          0  ...           0           1        0        1   \n",
      "..        ...        ...  ...         ...         ...      ...      ...   \n",
      "618         0          0  ...           0           0        0        0   \n",
      "619         0          0  ...           0           1        0        0   \n",
      "620         0          0  ...           0           1        1        0   \n",
      "621         1          0  ...           0           1        0        0   \n",
      "622         1          0  ...           0           0        0        0   \n",
      "\n",
      "     Cabin_D  Cabin_E  Cabin_F  Cabin_G  Cabin_T  Cabin_n  \n",
      "0          0        0        0        0        0        1  \n",
      "1          0        0        0        0        0        1  \n",
      "2          0        0        0        0        0        1  \n",
      "3          0        0        0        0        0        1  \n",
      "4          0        0        0        0        0        0  \n",
      "..       ...      ...      ...      ...      ...      ...  \n",
      "618        1        0        0        0        0        0  \n",
      "619        0        0        0        0        0        1  \n",
      "620        0        0        0        0        0        0  \n",
      "621        0        0        0        0        0        1  \n",
      "622        0        0        0        0        0        1  \n",
      "\n",
      "[621 rows x 32 columns]\n"
     ]
    }
   ],
   "source": [
    "data = pd.get_dummies(data, columns=[\"Pclass\",\"Name\",\"Embarked\",\"Cabin\"],drop_first = True)\n",
    "print(data)"
   ]
  },
  {
   "cell_type": "code",
   "execution_count": 58,
   "metadata": {},
   "outputs": [],
   "source": [
    "from sklearn.linear_model import LogisticRegression\n",
    "from sklearn.model_selection import train_test_split\n",
    "from sklearn.preprocessing import StandardScaler\n",
    "\n",
    "columns = data.columns\n",
    "#print(columns)\n",
    "#Wszystkie cechy:\n",
    "features=['PassengerId', 'Sex', 'Age', 'SibSp', 'Parch', 'Fare',\n",
    "       'Pclass_2', 'Pclass_3', 'Name_Col.', 'Name_Don.', 'Name_Dr.',\n",
    "       'Name_Lady.', 'Name_Major.', 'Name_Master.', 'Name_Miss.', 'Name_Mlle.',\n",
    "       'Name_Mme.', 'Name_Mr.', 'Name_Mrs.', 'Name_Rev.', 'Name_Sir.',\n",
    "       'Embarked_Q', 'Embarked_S', 'Cabin_B', 'Cabin_C', 'Cabin_D', 'Cabin_E',\n",
    "       'Cabin_F', 'Cabin_G', 'Cabin_T', 'Cabin_n']\n",
    "data_train, data_test = train_test_split(data, test_size=0.2, random_state=42)\n",
    "\n",
    "y_train = pd.DataFrame(data_train[\"Survived\"]).to_numpy().reshape((-1,))\n",
    "x_train = pd.DataFrame(data_train[features])\n",
    "\n",
    "#Preprocessing\n",
    "scaler=StandardScaler()\n",
    "scaler.fit(x_train)\n",
    "x_train_scaled=scaler.transform(x_train)\n",
    "\n",
    "model=LogisticRegression(random_state=42)\n",
    "model.fit(x_train_scaled, y_train)\n",
    "\n",
    "y_expected = pd.DataFrame(data_test[\"Survived\"])\n",
    "x_test = pd.DataFrame(data_test[features])\n",
    "x_test_scaled=scaler.transform(x_test)\n",
    "y_predicted = model.predict(x_test_scaled)"
   ]
  },
  {
   "cell_type": "code",
   "execution_count": 59,
   "metadata": {},
   "outputs": [
    {
     "name": "stdout",
     "output_type": "stream",
     "text": [
      "Precision: 0.784\n",
      "Recall: 0.784\n",
      "F-score: 0.7840000000000001\n",
      "Model score: 0.784\n"
     ]
    }
   ],
   "source": [
    "from sklearn.metrics import precision_recall_fscore_support\n",
    "precision, recall, fscore, support = precision_recall_fscore_support(\n",
    "    y_expected, y_predicted, average=\"micro\"\n",
    ")\n",
    "\n",
    "print(f\"Precision: {precision}\")\n",
    "print(f\"Recall: {recall}\")\n",
    "print(f\"F-score: {fscore}\")\n",
    "\n",
    "score = model.score(x_test_scaled, y_expected)\n",
    "print(f\"Model score: {score}\")"
   ]
  },
  {
   "cell_type": "code",
   "execution_count": 60,
   "metadata": {},
   "outputs": [
    {
     "name": "stdout",
     "output_type": "stream",
     "text": [
      "Cross-Validation Accuracy Scores [0.78       0.86       0.8        0.84       0.84       0.72\n",
      " 0.83673469 0.79591837 0.91836735 0.83673469]\n"
     ]
    },
    {
     "data": {
      "text/plain": [
       "0.8227755102040817"
      ]
     },
     "execution_count": 60,
     "metadata": {},
     "output_type": "execute_result"
    }
   ],
   "source": [
    "from sklearn.model_selection import cross_val_score\n",
    "\n",
    "scores = cross_val_score(model, x_train_scaled, y_train, cv=10)\n",
    "print('Cross-Validation Accuracy Scores', scores)\n",
    "scores.mean()"
   ]
  },
  {
   "cell_type": "code",
   "execution_count": 61,
   "metadata": {},
   "outputs": [
    {
     "name": "stdout",
     "output_type": "stream",
     "text": [
      "Feature Rankings:\n",
      "Name_Mr.: 1\n",
      "Pclass_3: 2\n",
      "SibSp: 3\n",
      "Cabin_E: 4\n",
      "Name_Rev.: 5\n",
      "Age: 6\n",
      "Fare: 7\n",
      "Sex: 8\n",
      "Name_Master.: 9\n",
      "Cabin_D: 10\n",
      "Embarked_S: 11\n",
      "Name_Mrs.: 12\n",
      "Parch: 13\n",
      "Name_Sir.: 14\n",
      "Name_Col.: 15\n",
      "Cabin_n: 16\n",
      "Name_Lady.: 17\n",
      "PassengerId: 18\n",
      "Cabin_G: 19\n",
      "Name_Mlle.: 20\n",
      "Cabin_C: 21\n",
      "Name_Mme.: 22\n",
      "Name_Miss.: 23\n",
      "Pclass_2: 24\n",
      "Cabin_F: 25\n",
      "Embarked_Q: 26\n",
      "Name_Dr.: 27\n",
      "Name_Major.: 28\n",
      "Cabin_B: 29\n",
      "Name_Don.: 30\n",
      "Cabin_T: 31\n"
     ]
    }
   ],
   "source": [
    "from sklearn.feature_selection import RFE\n",
    "\n",
    "model = LogisticRegression(random_state=42)\n",
    "rfe = RFE(model, n_features_to_select=1)\n",
    "rfe.fit(x_train_scaled, y_train)\n",
    "\n",
    "feature_rankings = rfe.ranking_\n",
    "feature_rankings_dict = {feature: rank for feature, rank in zip(features, feature_rankings)}\n",
    "sorted_feature_rankings = sorted(feature_rankings_dict.items(), key=lambda x: x[1])\n",
    "\n",
    "print(\"Feature Rankings:\")\n",
    "for feature, rank in sorted_feature_rankings:\n",
    "    print(f\"{feature}: {rank}\")"
   ]
  },
  {
   "cell_type": "code",
   "execution_count": 62,
   "metadata": {},
   "outputs": [
    {
     "name": "stdout",
     "output_type": "stream",
     "text": [
      "Cross-Validation Accuracy Scores [0.84       0.9        0.78       0.88       0.84       0.7\n",
      " 0.85714286 0.7755102  0.91836735 0.85714286]\n"
     ]
    },
    {
     "data": {
      "text/plain": [
       "0.8348163265306123"
      ]
     },
     "execution_count": 62,
     "metadata": {},
     "output_type": "execute_result"
    }
   ],
   "source": [
    "features2=['Name_Mr.','Pclass_3','SibSp','Cabin_E','Name_Rev.','Age'] #Wynik Cross-Validation: 0.834\n",
    "#features2=['Name_Mr.','Pclass_3','SibSp','Cabin_E','Name_Rev.','Age',\n",
    "                # 'Fare','Sex','Name_Master.','Cabin_D','Embarked_S',\n",
    "                # 'Name_Mrs.','Parch','Name_Sir.','Name_Col.','Cabin_n'] #Wynik Cross-Validation: 0.830\n",
    "#features2=['Name_Mr.','Pclass_3','SibSp','Cabin_E','Name_Rev.','Age',\n",
    "                # 'Fare','Sex','Name_Master.','Cabin_D','Embarked_S',\n",
    "                # 'Name_Mrs.','Parch','Name_Sir.','Name_Col.','Cabin_n','Name_Lady.'] #Wynik Cross-Validation: 0.830\n",
    "\n",
    "data_train, data_test = train_test_split(data, test_size=0.2, random_state=42)\n",
    "x_train = pd.DataFrame(data_train[features2])\n",
    "y_train = pd.DataFrame(data_train[\"Survived\"]).to_numpy().reshape((-1,))\n",
    "\n",
    "#Preprocessing\n",
    "scaler=StandardScaler()\n",
    "scaler.fit(x_train)\n",
    "x_train_scaled=scaler.transform(x_train)\n",
    "\n",
    "model2 = LogisticRegression(random_state=42)\n",
    "model2.fit(x_train_scaled, y_train)\n",
    "\n",
    "y_expected = pd.DataFrame(data_test[\"Survived\"])\n",
    "x_test = pd.DataFrame(data_test[features2])\n",
    "x_test_scaled=scaler.transform(x_test)\n",
    "y_predicted = model2.predict(x_test_scaled)\n",
    "from sklearn.model_selection import cross_val_score\n",
    "\n",
    "scores = cross_val_score(model2, x_train_scaled, y_train, cv=10)\n",
    "print('Cross-Validation Accuracy Scores', scores)\n",
    "scores.mean()"
   ]
  },
  {
   "cell_type": "code",
   "execution_count": 63,
   "metadata": {},
   "outputs": [
    {
     "data": {
      "text/html": [
       "<div>\n",
       "<style scoped>\n",
       "    .dataframe tbody tr th:only-of-type {\n",
       "        vertical-align: middle;\n",
       "    }\n",
       "\n",
       "    .dataframe tbody tr th {\n",
       "        vertical-align: top;\n",
       "    }\n",
       "\n",
       "    .dataframe thead th {\n",
       "        text-align: right;\n",
       "    }\n",
       "</style>\n",
       "<table border=\"1\" class=\"dataframe\">\n",
       "  <thead>\n",
       "    <tr style=\"text-align: right;\">\n",
       "      <th></th>\n",
       "      <th>Age</th>\n",
       "      <th>Fare</th>\n",
       "    </tr>\n",
       "  </thead>\n",
       "  <tbody>\n",
       "    <tr>\n",
       "      <th>count</th>\n",
       "      <td>621.000000</td>\n",
       "      <td>621.000000</td>\n",
       "    </tr>\n",
       "    <tr>\n",
       "      <th>mean</th>\n",
       "      <td>29.289919</td>\n",
       "      <td>30.197759</td>\n",
       "    </tr>\n",
       "    <tr>\n",
       "      <th>std</th>\n",
       "      <td>12.971010</td>\n",
       "      <td>43.890790</td>\n",
       "    </tr>\n",
       "    <tr>\n",
       "      <th>min</th>\n",
       "      <td>0.420000</td>\n",
       "      <td>0.000000</td>\n",
       "    </tr>\n",
       "    <tr>\n",
       "      <th>25%</th>\n",
       "      <td>22.000000</td>\n",
       "      <td>7.925000</td>\n",
       "    </tr>\n",
       "    <tr>\n",
       "      <th>50%</th>\n",
       "      <td>29.360000</td>\n",
       "      <td>14.454200</td>\n",
       "    </tr>\n",
       "    <tr>\n",
       "      <th>75%</th>\n",
       "      <td>34.500000</td>\n",
       "      <td>30.070800</td>\n",
       "    </tr>\n",
       "    <tr>\n",
       "      <th>max</th>\n",
       "      <td>74.000000</td>\n",
       "      <td>512.329200</td>\n",
       "    </tr>\n",
       "  </tbody>\n",
       "</table>\n",
       "</div>"
      ],
      "text/plain": [
       "              Age        Fare\n",
       "count  621.000000  621.000000\n",
       "mean    29.289919   30.197759\n",
       "std     12.971010   43.890790\n",
       "min      0.420000    0.000000\n",
       "25%     22.000000    7.925000\n",
       "50%     29.360000   14.454200\n",
       "75%     34.500000   30.070800\n",
       "max     74.000000  512.329200"
      ]
     },
     "execution_count": 63,
     "metadata": {},
     "output_type": "execute_result"
    }
   ],
   "source": [
    "data.describe()[[\"Age\",\"Fare\"]]"
   ]
  },
  {
   "cell_type": "code",
   "execution_count": 64,
   "metadata": {},
   "outputs": [
    {
     "data": {
      "image/png": "[encoded data removed]",
      "text/plain": [
       "<Figure size 432x288 with 1 Axes>"
      ]
     },
     "metadata": {
      "needs_background": "light"
     },
     "output_type": "display_data"
    },
    {
     "data": {
      "image/png": "[encoded data removed]",
      "text/plain": [
       "<Figure size 432x288 with 1 Axes>"
      ]
     },
     "metadata": {
      "needs_background": "light"
     },
     "output_type": "display_data"
    }
   ],
   "source": [
    "import seaborn as sns\n",
    "import matplotlib.pyplot as plt\n",
    "sns.boxplot(x=data['Age'])\n",
    "plt.show()\n",
    "sns.boxplot(x=data['Fare'])\n",
    "plt.show()"
   ]
  },
  {
   "cell_type": "code",
   "execution_count": 65,
   "metadata": {},
   "outputs": [
    {
     "name": "stdout",
     "output_type": "stream",
     "text": [
      "Usunięto 60 wierszy\n"
     ]
    }
   ],
   "source": [
    "#Usuwanie części wartości odstających\n",
    "q_low = data[\"Age\"].quantile(0.02)\n",
    "q_hi  = data[\"Age\"].quantile(0.98)\n",
    "\n",
    "data_filtered1 = data[(data[\"Age\"] < q_hi) & (data[\"Age\"] > q_low)]\n",
    "q_low = data_filtered1[\"Fare\"].quantile(0.02)\n",
    "q_hi  = data_filtered1[\"Fare\"].quantile(0.98)\n",
    "#data_filtered2=data_filtered1[(data_filtered1[\"Fare\"] < q_hi) & (data_filtered1[\"Fare\"] > q_low)]\n",
    "data_filtered2=data_filtered1[(data_filtered1[\"Fare\"] < 100)]\n",
    "filtered = pd.merge(data_filtered2, data)\n",
    "print(f\"Usunięto {len(data)-len(filtered)} wierszy\")"
   ]
  },
  {
   "cell_type": "code",
   "execution_count": 66,
   "metadata": {},
   "outputs": [
    {
     "data": {
      "image/png": "[encoded data removed]",
      "text/plain": [
       "<Figure size 432x288 with 1 Axes>"
      ]
     },
     "metadata": {
      "needs_background": "light"
     },
     "output_type": "display_data"
    },
    {
     "data": {
      "image/png": "[encoded data removed]",
      "text/plain": [
       "<Figure size 432x288 with 1 Axes>"
      ]
     },
     "metadata": {
      "needs_background": "light"
     },
     "output_type": "display_data"
    }
   ],
   "source": [
    "sns.boxplot(x=filtered['Age'])\n",
    "plt.show()\n",
    "sns.boxplot(x=filtered['Fare'])\n",
    "plt.show()"
   ]
  },
  {
   "cell_type": "code",
   "execution_count": 67,
   "metadata": {},
   "outputs": [
    {
     "name": "stdout",
     "output_type": "stream",
     "text": [
      "Dane dotyczące Age i Fare przed usunięciem wartości odstających:\n"
     ]
    },
    {
     "data": {
      "text/html": [
       "<div>\n",
       "<style scoped>\n",
       "    .dataframe tbody tr th:only-of-type {\n",
       "        vertical-align: middle;\n",
       "    }\n",
       "\n",
       "    .dataframe tbody tr th {\n",
       "        vertical-align: top;\n",
       "    }\n",
       "\n",
       "    .dataframe thead th {\n",
       "        text-align: right;\n",
       "    }\n",
       "</style>\n",
       "<table border=\"1\" class=\"dataframe\">\n",
       "  <thead>\n",
       "    <tr style=\"text-align: right;\">\n",
       "      <th></th>\n",
       "      <th>Age</th>\n",
       "      <th>Fare</th>\n",
       "    </tr>\n",
       "  </thead>\n",
       "  <tbody>\n",
       "    <tr>\n",
       "      <th>count</th>\n",
       "      <td>621.000000</td>\n",
       "      <td>621.000000</td>\n",
       "    </tr>\n",
       "    <tr>\n",
       "      <th>mean</th>\n",
       "      <td>29.289919</td>\n",
       "      <td>30.197759</td>\n",
       "    </tr>\n",
       "    <tr>\n",
       "      <th>std</th>\n",
       "      <td>12.971010</td>\n",
       "      <td>43.890790</td>\n",
       "    </tr>\n",
       "    <tr>\n",
       "      <th>min</th>\n",
       "      <td>0.420000</td>\n",
       "      <td>0.000000</td>\n",
       "    </tr>\n",
       "    <tr>\n",
       "      <th>25%</th>\n",
       "      <td>22.000000</td>\n",
       "      <td>7.925000</td>\n",
       "    </tr>\n",
       "    <tr>\n",
       "      <th>50%</th>\n",
       "      <td>29.360000</td>\n",
       "      <td>14.454200</td>\n",
       "    </tr>\n",
       "    <tr>\n",
       "      <th>75%</th>\n",
       "      <td>34.500000</td>\n",
       "      <td>30.070800</td>\n",
       "    </tr>\n",
       "    <tr>\n",
       "      <th>max</th>\n",
       "      <td>74.000000</td>\n",
       "      <td>512.329200</td>\n",
       "    </tr>\n",
       "  </tbody>\n",
       "</table>\n",
       "</div>"
      ],
      "text/plain": [
       "              Age        Fare\n",
       "count  621.000000  621.000000\n",
       "mean    29.289919   30.197759\n",
       "std     12.971010   43.890790\n",
       "min      0.420000    0.000000\n",
       "25%     22.000000    7.925000\n",
       "50%     29.360000   14.454200\n",
       "75%     34.500000   30.070800\n",
       "max     74.000000  512.329200"
      ]
     },
     "metadata": {},
     "output_type": "display_data"
    },
    {
     "name": "stdout",
     "output_type": "stream",
     "text": [
      "Dane dotyczące Age i Fare po usunięciu wartości odstających:\n"
     ]
    },
    {
     "data": {
      "text/html": [
       "<div>\n",
       "<style scoped>\n",
       "    .dataframe tbody tr th:only-of-type {\n",
       "        vertical-align: middle;\n",
       "    }\n",
       "\n",
       "    .dataframe tbody tr th {\n",
       "        vertical-align: top;\n",
       "    }\n",
       "\n",
       "    .dataframe thead th {\n",
       "        text-align: right;\n",
       "    }\n",
       "</style>\n",
       "<table border=\"1\" class=\"dataframe\">\n",
       "  <thead>\n",
       "    <tr style=\"text-align: right;\">\n",
       "      <th></th>\n",
       "      <th>Age</th>\n",
       "      <th>Fare</th>\n",
       "    </tr>\n",
       "  </thead>\n",
       "  <tbody>\n",
       "    <tr>\n",
       "      <th>count</th>\n",
       "      <td>561.000000</td>\n",
       "      <td>561.000000</td>\n",
       "    </tr>\n",
       "    <tr>\n",
       "      <th>mean</th>\n",
       "      <td>29.045811</td>\n",
       "      <td>21.617238</td>\n",
       "    </tr>\n",
       "    <tr>\n",
       "      <th>std</th>\n",
       "      <td>11.266149</td>\n",
       "      <td>20.107884</td>\n",
       "    </tr>\n",
       "    <tr>\n",
       "      <th>min</th>\n",
       "      <td>3.000000</td>\n",
       "      <td>0.000000</td>\n",
       "    </tr>\n",
       "    <tr>\n",
       "      <th>25%</th>\n",
       "      <td>22.000000</td>\n",
       "      <td>7.895800</td>\n",
       "    </tr>\n",
       "    <tr>\n",
       "      <th>50%</th>\n",
       "      <td>29.360000</td>\n",
       "      <td>13.000000</td>\n",
       "    </tr>\n",
       "    <tr>\n",
       "      <th>75%</th>\n",
       "      <td>34.000000</td>\n",
       "      <td>26.550000</td>\n",
       "    </tr>\n",
       "    <tr>\n",
       "      <th>max</th>\n",
       "      <td>61.000000</td>\n",
       "      <td>93.500000</td>\n",
       "    </tr>\n",
       "  </tbody>\n",
       "</table>\n",
       "</div>"
      ],
      "text/plain": [
       "              Age        Fare\n",
       "count  561.000000  561.000000\n",
       "mean    29.045811   21.617238\n",
       "std     11.266149   20.107884\n",
       "min      3.000000    0.000000\n",
       "25%     22.000000    7.895800\n",
       "50%     29.360000   13.000000\n",
       "75%     34.000000   26.550000\n",
       "max     61.000000   93.500000"
      ]
     },
     "metadata": {},
     "output_type": "display_data"
    }
   ],
   "source": [
    "print(\"Dane dotyczące Age i Fare przed usunięciem wartości odstających:\")\n",
    "display(data.describe()[[\"Age\",\"Fare\"]])\n",
    "print(\"Dane dotyczące Age i Fare po usunięciu wartości odstających:\")\n",
    "display(filtered.describe()[[\"Age\",\"Fare\"]])"
   ]
  },
  {
   "cell_type": "code",
   "execution_count": 68,
   "metadata": {},
   "outputs": [],
   "source": [
    "'''features=['PassengerId', 'Sex', 'Age', 'SibSp', 'Parch', 'Fare',\n",
    "       'Pclass_2', 'Pclass_3', 'Name_Col.', 'Name_Don.', 'Name_Dr.',\n",
    "       'Name_Lady.', 'Name_Major.', 'Name_Master.', 'Name_Miss.', 'Name_Mlle.',\n",
    "       'Name_Mme.', 'Name_Mr.', 'Name_Mrs.', 'Name_Rev.', 'Name_Sir.',\n",
    "       'Embarked_Q', 'Embarked_S', 'Cabin_B', 'Cabin_C', 'Cabin_D', 'Cabin_E',\n",
    "       'Cabin_F', 'Cabin_G', 'Cabin_T', 'Cabin_n']''' #Wynik Cross-Validation: 0.803\n",
    "features=features2\n",
    "\n",
    "data_train, data_test = train_test_split(filtered, test_size=0.2, random_state=42)\n",
    "\n",
    "y_train = pd.DataFrame(data_train[\"Survived\"]).to_numpy().reshape((-1,))\n",
    "x_train = pd.DataFrame(data_train[features])\n",
    "\n",
    "#Preprocessing\n",
    "scaler=StandardScaler()\n",
    "scaler.fit(x_train)\n",
    "x_train_scaled=scaler.transform(x_train)\n",
    "\n",
    "model=LogisticRegression(random_state=42)\n",
    "model.fit(x_train_scaled, y_train)\n",
    "\n",
    "y_expected = pd.DataFrame(data_test[\"Survived\"])\n",
    "x_test = pd.DataFrame(data_test[features])\n",
    "x_test_scaled=scaler.transform(x_test)\n",
    "y_predicted = model.predict(x_test_scaled)"
   ]
  },
  {
   "cell_type": "code",
   "execution_count": 69,
   "metadata": {},
   "outputs": [
    {
     "name": "stdout",
     "output_type": "stream",
     "text": [
      "Precision: 0.8407079646017699\n",
      "Recall: 0.8407079646017699\n",
      "F-score: 0.8407079646017699\n",
      "Model score: 0.8407079646017699\n"
     ]
    }
   ],
   "source": [
    "precision, recall, fscore, support = precision_recall_fscore_support(\n",
    "    y_expected, y_predicted, average=\"micro\"\n",
    ")\n",
    "print(f\"Precision: {precision}\")\n",
    "print(f\"Recall: {recall}\")\n",
    "print(f\"F-score: {fscore}\")\n",
    "\n",
    "score = model.score(x_test_scaled, y_expected)\n",
    "print(f\"Model score: {score}\")"
   ]
  },
  {
   "cell_type": "code",
   "execution_count": 70,
   "metadata": {},
   "outputs": [
    {
     "name": "stdout",
     "output_type": "stream",
     "text": [
      "Cross-Validation Accuracy Scores [0.84444444 0.86666667 0.75555556 0.84444444 0.77777778 0.8\n",
      " 0.82222222 0.77777778 0.81818182 0.86363636]\n"
     ]
    },
    {
     "data": {
      "text/plain": [
       "0.8170707070707071"
      ]
     },
     "execution_count": 70,
     "metadata": {},
     "output_type": "execute_result"
    }
   ],
   "source": [
    "from sklearn.model_selection import cross_val_score\n",
    "\n",
    "scores = cross_val_score(model, x_train_scaled, y_train, cv=10)\n",
    "print('Cross-Validation Accuracy Scores', scores)\n",
    "scores.mean()"
   ]
  }
 ],
 "metadata": {
  "kernelspec": {
   "display_name": "Python 3",
   "language": "python",
   "name": "python3"
  },
  "language_info": {
   "codemirror_mode": {
    "name": "ipython",
    "version": 3
   },
   "file_extension": ".py",
   "mimetype": "text/x-python",
   "name": "python",
   "nbconvert_exporter": "python",
   "pygments_lexer": "ipython3",
   "version": "3.9.13"
  },
  "orig_nbformat": 4,
  "vscode": {
   "interpreter": {
    "hash": "822f778737178fe76a6ff500c230e38a1f3004a1451c350514bba9d63e701910"
   }
  }
 },
 "nbformat": 4,
 "nbformat_minor": 2
}
